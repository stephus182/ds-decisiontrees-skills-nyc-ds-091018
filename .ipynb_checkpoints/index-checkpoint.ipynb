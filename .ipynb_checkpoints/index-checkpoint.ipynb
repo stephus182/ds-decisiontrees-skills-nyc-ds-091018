{
 "cells": [
  {
   "cell_type": "markdown",
   "metadata": {},
   "source": [
    "# Classification with Decision Trees\n",
    "\n",
    "## Objectives\n",
    "* Describe decision trees to solve supervised classification problems.\n",
    "* Understand the idea and maths behind calculating entropy and information gain. \n",
    "* Calculate entropy for a simple toy problem to build a DT.\n",
    "---"
   ]
  },
  {
   "cell_type": "markdown",
   "metadata": {},
   "source": [
    "### Decision Trees\n",
    "Decision trees are tree structured (i.e. having a hierarchy), supervised learning algorithm that are mostly used in classification problems. It works for both categorical and continuous input and output variables. In this technique, we split the data into two or more homogeneous sets based on most significant differentiator in input variables. A decision tree can be used to visually and explicitly represent decisions and decision making so it remains highly explainable. DTs are highly popular tools in data mining, statistics for deriving a strategy to reach a particular goal. In this lesson, we shall focus on predictive abilities of a decision tree in the context of Machine Learning. \n",
    "\n",
    "Following is a simple decision tree highlighting and visualizing decisions that most of us have to make every morning :)\n",
    "\n",
    "![](exampletree.jpg)\n",
    "\n",
    "\n"
   ]
  },
  {
   "cell_type": "markdown",
   "metadata": {},
   "source": [
    "## Decision Tree Terminology\n",
    "\n",
    "Following the intuition from the above figure, let's try to identify different nodes/edges and levels of heirarchy in a tree. \n",
    "\n",
    "\n",
    "#### Root Node: \n",
    "A root node is a the top of hierarchy and is responisble for creating a first split on the given data. It divides the data based on two or more homogeneous sets (depending upon classes in the given variable).\n",
    "#### Splitting: \n",
    "Splitting is the term given to the process of dividing a node into two or more sub-nodes.\n",
    "#### Decision Node: \n",
    "The decision node (in yellow below) decides whether to split the data into further sub-nodes or not\n",
    "#### Leaf: \n",
    "Leaf nodes exist at the lowest end on the hierachy in a brach and do not split any further highlighting that the model can not go any further. \n",
    "\n"
   ]
  },
  {
   "cell_type": "markdown",
   "metadata": {},
   "source": [
    "![](tree_term.jpg)"
   ]
  },
  {
   "cell_type": "markdown",
   "metadata": {},
   "source": [
    "## Building a decision tree\n",
    "\n",
    "The process of training a decision tree and predicting the target features is as follows:\n",
    "\n",
    "1. Present a dataset containing of a number of training instances characterized by a number of descriptive features and a target feature.\n",
    "\n",
    "2. Train the decision tree model by continuously splitting the target feature along the values of the descriptive features using a measure of information gain during the training process.\n",
    "\n",
    "3. Grow the tree until we accomplish a stopping criteria i.e. create leaf nodes which represent the predictions we want to make for a new instance.\n",
    "\n",
    "4. Show new instances to the tree and run down the tree until we arrive at leaf nodes.\n",
    "\n",
    "5. DONE.\n",
    "\n",
    "![](dtprocess.png)\n",
    "\n",
    "From above figure , following provides a good intuition for building a decision tree. \n",
    "\n",
    ">*Given a dataset, train a model which learns the relationship between the descriptive features and a target feature. We can then present the model with new, unseen instances and predict the target feature values for these.*\n",
    "\n",
    "At this stage, it must be highlighted that selection of root nodes and splitting decisions are not totally random processes. We need to take a quick dive into some simple mathematics around informatiom theoratic concepts of **ENTROPY** and **INFORMATION GAIN** which would help us answer following questions. \n",
    "\n",
    "* Which attribute should be chosen as for being the Root/Parent Node?\n",
    "* When should we split / not split the data any further ?\n",
    "\n",
    "You should also remember that decision trees can be used for classification as well as regression problems. In this lab, we are focusing on classification only as regression will be covered during a later session. "
   ]
  },
  {
   "cell_type": "markdown",
   "metadata": {},
   "source": [
    "## Entropy\n",
    "\n",
    "Entropy is a measure of uncertainty, and highlights unpredictability of a state, or equivalently, of its average information content. Entropy is a statistical metric that measures the impurity. Given a dataset S, which contains two classes: Positive and Negative, of some arbitrary target concept, entropy with respect to this boolean classification is:\n",
    "\n",
    ">** Entropy(S) = -p(positive)log2 p(positive) — p(negative) log2 p(negative)**\n",
    "\n",
    "where \n",
    "\n",
    "* p(positive) is the probability of positive examples in S.\n",
    "\n",
    "* p(negative) is the proportion of negative examples in S. \n",
    "\n",
    "**Notice that the entropy is 0 if all members of S belong to the same class. For example, if all members are positive (p+ = 1), then p- is 0, and Entropy(S) = -1. log2(1) – 0. log2 0 = -1. 0 – 0. log2 0 = 0.**\n",
    "\n",
    "The entropy is 1 when the collection contains an equal number of positive and negative examples.\n",
    "\n",
    "If the collection contains unequal numbers of positive and negative examples, the entropy is between 0 and 1.\n",
    "\n",
    "![](ent_prob.png)\n",
    "\n",
    "Another intuition for understanding entropy is that, entropy specifies the minimum number of bits required to encode the classification of any member of a collection S. In general the entropy of a variable x is given as:\n",
    "![](ent.jpg)"
   ]
  },
  {
   "cell_type": "markdown",
   "metadata": {},
   "source": [
    "## Information Gain\n",
    "\n",
    "Information gain is a metric that measures the expected reduction in the impurity of the collection S, caused by splitting the data according to any given attribute. Whilst building the decision tree, the information gain metric is used to select the best attribute i.e. the attribute the provides the “best split” at each level.\n",
    "\n",
    "IG measures the expected reduction in entropy and decides which attribute goes into a decision node. To minimise the decision tree depth, the attribute with the most entropy reduction is chosen by the DT algorithm.\n",
    "\n",
    "More precisely, the information gain Gain(S, A) of an attribute A relative to a collection of examples S is defined as:\n",
    "![](IG.png)\n",
    "\n",
    "* S = Each value v of all possible values of attribute A\n",
    "* Sv = Subset of S for which attribute A has value v\n",
    "* |Sv| = Number of elements in Sv\n",
    "* |S| = Number of elements in S\n"
   ]
  },
  {
   "cell_type": "markdown",
   "metadata": {},
   "source": [
    "Let's see above mathamatical descriptions in action with a simple decision \"SHOULD I PLAY BASEBALL?\" as shown below:"
   ]
  },
  {
   "cell_type": "code",
   "execution_count": 31,
   "metadata": {},
   "outputs": [
    {
     "name": "stdout",
     "output_type": "stream",
     "text": [
      "    Day   Outlook Temperature Humidity    Wind Should I play baseball?\n",
      "0    D1     Sunny         Hot     High    Weak                      No\n",
      "1    D2     Sunny         Hot     High  Strong                      No\n",
      "2    D3  Overcast         Hot     High    Weak                     Yes\n",
      "3    D4      Rain        Mild     High    Weak                     Yes\n",
      "4    D5      Rain        Cool   Normal    Weak                     Yes\n",
      "5    D6      Rain        Cool   Normal  Strong                      No\n",
      "6    D7  Overcast        Cool   Normal  Strong                     Yes\n",
      "7    D8     Sunny        Mild     High    Weak                      No\n",
      "8    D9     Sunny        Cool   Normal    Weak                     Yes\n",
      "9   D10      Rain        Mild   Normal    Weak                     Yes\n",
      "10  D11     Sunny        Mild   Normal  Strong                     Yes\n",
      "11  D12  Overcast        Mild     High  Strong                     Yes\n",
      "12  D13  Overcast         Hot   Normal    Weak                     Yes\n",
      "13  D14      Rain        Mild     High  Strong                      No\n"
     ]
    }
   ],
   "source": [
    "import pandas as pd \n",
    "baseball = pd.read_csv('baseball.csv', header = 1)\n",
    "baseball.columns\n",
    "print(baseball)"
   ]
  },
  {
   "cell_type": "markdown",
   "metadata": {},
   "source": [
    "At this stage, it is a good practice to explicitly specify the columns which are categorical using `.astype()` method."
   ]
  },
  {
   "cell_type": "code",
   "execution_count": 32,
   "metadata": {},
   "outputs": [
    {
     "data": {
      "text/html": [
       "<div>\n",
       "<style scoped>\n",
       "    .dataframe tbody tr th:only-of-type {\n",
       "        vertical-align: middle;\n",
       "    }\n",
       "\n",
       "    .dataframe tbody tr th {\n",
       "        vertical-align: top;\n",
       "    }\n",
       "\n",
       "    .dataframe thead th {\n",
       "        text-align: right;\n",
       "    }\n",
       "</style>\n",
       "<table border=\"1\" class=\"dataframe\">\n",
       "  <thead>\n",
       "    <tr style=\"text-align: right;\">\n",
       "      <th></th>\n",
       "      <th>Day</th>\n",
       "      <th>Outlook</th>\n",
       "      <th>Temperature</th>\n",
       "      <th>Humidity</th>\n",
       "      <th>Wind</th>\n",
       "      <th>Should I play baseball?</th>\n",
       "    </tr>\n",
       "  </thead>\n",
       "  <tbody>\n",
       "    <tr>\n",
       "      <th>count</th>\n",
       "      <td>14</td>\n",
       "      <td>14</td>\n",
       "      <td>14</td>\n",
       "      <td>14</td>\n",
       "      <td>14</td>\n",
       "      <td>14</td>\n",
       "    </tr>\n",
       "    <tr>\n",
       "      <th>unique</th>\n",
       "      <td>14</td>\n",
       "      <td>3</td>\n",
       "      <td>3</td>\n",
       "      <td>2</td>\n",
       "      <td>2</td>\n",
       "      <td>2</td>\n",
       "    </tr>\n",
       "    <tr>\n",
       "      <th>top</th>\n",
       "      <td>D9</td>\n",
       "      <td>Sunny</td>\n",
       "      <td>Mild</td>\n",
       "      <td>Normal</td>\n",
       "      <td>Weak</td>\n",
       "      <td>Yes</td>\n",
       "    </tr>\n",
       "    <tr>\n",
       "      <th>freq</th>\n",
       "      <td>1</td>\n",
       "      <td>5</td>\n",
       "      <td>6</td>\n",
       "      <td>7</td>\n",
       "      <td>8</td>\n",
       "      <td>9</td>\n",
       "    </tr>\n",
       "  </tbody>\n",
       "</table>\n",
       "</div>"
      ],
      "text/plain": [
       "       Day Outlook Temperature Humidity  Wind Should I play baseball?\n",
       "count   14      14          14       14    14                      14\n",
       "unique  14       3           3        2     2                       2\n",
       "top     D9   Sunny        Mild   Normal  Weak                     Yes\n",
       "freq     1       5           6        7     8                       9"
      ]
     },
     "execution_count": 32,
     "metadata": {},
     "output_type": "execute_result"
    }
   ],
   "source": [
    "for column in baseball.columns:\n",
    "    baseball[column] = baseball[column].astype('category')\n",
    "baseball.describe()"
   ]
  },
  {
   "cell_type": "markdown",
   "metadata": {},
   "source": [
    "We need to find which attribute will be the root node in our decision tree.\n",
    "\n",
    "STEP 1 : Calculate the total entropy"
   ]
  },
  {
   "cell_type": "code",
   "execution_count": 33,
   "metadata": {},
   "outputs": [
    {
     "data": {
      "text/plain": [
       "Yes    9\n",
       "No     5\n",
       "Name: Should I play baseball?, dtype: int64"
      ]
     },
     "execution_count": 33,
     "metadata": {},
     "output_type": "execute_result"
    }
   ],
   "source": [
    "baseball['Should I play baseball?'].value_counts()"
   ]
  },
  {
   "cell_type": "markdown",
   "metadata": {},
   "source": [
    "### Initial Entropy"
   ]
  },
  {
   "cell_type": "code",
   "execution_count": 34,
   "metadata": {},
   "outputs": [
    {
     "name": "stdout",
     "output_type": "stream",
     "text": [
      "0.9402859586706309\n"
     ]
    }
   ],
   "source": [
    "import math\n",
    "Ent_S = -(9/14)*math.log((9/14),2) - (5/14)*math.log((5/14),2) \n",
    "print (Ent_S)"
   ]
  },
  {
   "cell_type": "markdown",
   "metadata": {},
   "source": [
    "### The Root Node"
   ]
  },
  {
   "cell_type": "markdown",
   "metadata": {},
   "source": [
    "Check out Wind to be root node:"
   ]
  },
  {
   "cell_type": "code",
   "execution_count": 35,
   "metadata": {},
   "outputs": [
    {
     "data": {
      "text/plain": [
       "Weak      8\n",
       "Strong    6\n",
       "Name: Wind, dtype: int64"
      ]
     },
     "execution_count": 35,
     "metadata": {},
     "output_type": "execute_result"
    }
   ],
   "source": [
    "baseball['Wind'].value_counts()"
   ]
  },
  {
   "cell_type": "code",
   "execution_count": 41,
   "metadata": {},
   "outputs": [
    {
     "name": "stdout",
     "output_type": "stream",
     "text": [
      "0.8112781244591328\n",
      "1.0\n"
     ]
    }
   ],
   "source": [
    "Entropy_S_weak = - (6/8)*math.log((6/8),2) - (2/8)*math.log((2/8),2) \n",
    "print (Entropy_S_weak )\n",
    "Entropy_S_strong = - (3/6)*math.log((3/6),2) - (3/6)*math.log((3/6),2)\n",
    "print (Entropy_S_strong)\n",
    "\n",
    "Gain_S_wind = Ent_S - (8/14)* Entropy_S_weak - (6/14)* Entropy_S_strong\n"
   ]
  },
  {
   "cell_type": "code",
   "execution_count": 42,
   "metadata": {},
   "outputs": [
    {
     "data": {
      "text/plain": [
       "0.04812703040826932"
      ]
     },
     "execution_count": 42,
     "metadata": {},
     "output_type": "execute_result"
    }
   ],
   "source": [
    "Gain_S_wind "
   ]
  },
  {
   "cell_type": "code",
   "execution_count": 46,
   "metadata": {},
   "outputs": [],
   "source": [
    "Gain_S_outlook = 0.246\n",
    "Gain_S_temperature = 0.029\n",
    "Gain_S_humidity = 0.151"
   ]
  },
  {
   "cell_type": "markdown",
   "metadata": {},
   "source": [
    "Clearly, the outlook attribute has the highest gain. Therefore, it is used as the decision attribute in the root node."
   ]
  },
  {
   "cell_type": "code",
   "execution_count": 47,
   "metadata": {},
   "outputs": [
    {
     "data": {
      "text/plain": [
       "Sunny       5\n",
       "Rain        5\n",
       "Overcast    4\n",
       "Name: Outlook, dtype: int64"
      ]
     },
     "execution_count": 47,
     "metadata": {},
     "output_type": "execute_result"
    }
   ],
   "source": [
    "baseball['Outlook'].value_counts()"
   ]
  },
  {
   "cell_type": "markdown",
   "metadata": {},
   "source": [
    "Since outlook has three possible values, the root node has three branches (sunny, overcast, rain). \n",
    "\n",
    "The next question is, What attribute should be tested at the sunny branch node? Since we've used outlook at the root, we only decide on the remaining three attributes: humidity, temperature, or wind."
   ]
  },
  {
   "cell_type": "markdown",
   "metadata": {},
   "source": [
    "Ssunny = {D1, D2, D8, D9, D11} = 5 examples from the table with outlook = sunny\n",
    "\n",
    "Gain_Ssunny_humidity = 0.970\n",
    "\n",
    "Gain_Ssunny_temperature = 0.570\n",
    "\n",
    "Gain_Ssunny_Wind = 0.019"
   ]
  },
  {
   "cell_type": "markdown",
   "metadata": {},
   "source": [
    "Humidity has the highest gain; therefore, it is used as the decision node. This process goes on until all data is classified perfectly or we run out of attributes."
   ]
  },
  {
   "cell_type": "markdown",
   "metadata": {},
   "source": [
    "![](finaltree.gif)"
   ]
  },
  {
   "cell_type": "markdown",
   "metadata": {},
   "source": [
    "The decision tree can also be expressed in rule format:\n",
    "\n",
    "IF `outlook = sunny` AND `humidity = high` THEN `play baseball = no`\n",
    "\n",
    "IF `outlook = rain` AND `humidity = high` THEN `play baseball = no`\n",
    "\n",
    "IF `outlook = rain` AND `wind = strong` THEN `play baseball = yes`\n",
    "\n",
    "IF `outlook = overcast` THEN `play baseball = yes`\n",
    "\n",
    "IF `outlook = rain` AND `wind = weak` THEN `play baseball = yes`"
   ]
  },
  {
   "cell_type": "markdown",
   "metadata": {},
   "source": [
    "That’s all mathematical understanding you need to understand Decision Tree. If you think this concept is overwhelming then don’t be. Take it as a learning process like any other skills to learn you need to give some Time & constant Motivation."
   ]
  },
  {
   "cell_type": "code",
   "execution_count": 3,
   "metadata": {},
   "outputs": [
    {
     "data": {
      "text/plain": [
       "'wine.pdf'"
      ]
     },
     "execution_count": 3,
     "metadata": {},
     "output_type": "execute_result"
    }
   ],
   "source": [
    "from sklearn.datasets import *\n",
    "from sklearn import tree\n",
    "import graphviz \n",
    "\n",
    "wine = load_wine(b) #import dataset\n",
    "clf = tree.DecisionTreeClassifier(criterion= 'entropy') # init the tree\n",
    "clf = clf.fit(wine.data, wine.target) # Train the tree\n",
    "# export the trained decision tree\n",
    "dot_data = tree.export_graphviz(clf, out_file=None,\n",
    "                         feature_names=wine.feature_names,\n",
    "                         class_names=wine.target_names,\n",
    "                         filled=True, rounded=True,\n",
    "                         special_characters=True)\n",
    "graph = graphviz.Source(dot_data)\n",
    "graph.render(\"wine\") # tree saved to wine.pdf\n"
   ]
  },
  {
   "cell_type": "code",
   "execution_count": 4,
   "metadata": {},
   "outputs": [
    {
     "data": {
      "image/svg+xml": [
       "<?xml version=\"1.0\" encoding=\"UTF-8\" standalone=\"no\"?>\n",
       "<!DOCTYPE svg PUBLIC \"-//W3C//DTD SVG 1.1//EN\"\n",
       " \"http://www.w3.org/Graphics/SVG/1.1/DTD/svg11.dtd\">\n",
       "<!-- Generated by graphviz version 2.40.1 (20161225.0304)\n",
       " -->\n",
       "<!-- Title: Tree Pages: 1 -->\n",
       "<svg width=\"657pt\" height=\"552pt\"\n",
       " viewBox=\"0.00 0.00 657.00 552.00\" xmlns=\"http://www.w3.org/2000/svg\" xmlns:xlink=\"http://www.w3.org/1999/xlink\">\n",
       "<g id=\"graph0\" class=\"graph\" transform=\"scale(1 1) rotate(0) translate(4 548)\">\n",
       "<title>Tree</title>\n",
       "<polygon fill=\"#ffffff\" stroke=\"transparent\" points=\"-4,4 -4,-548 653,-548 653,4 -4,4\"/>\n",
       "<!-- 0 -->\n",
       "<g id=\"node1\" class=\"node\">\n",
       "<title>0</title>\n",
       "<path fill=\"#39e581\" fill-opacity=\"0.101961\" stroke=\"#000000\" d=\"M264,-544C264,-544 182,-544 182,-544 176,-544 170,-538 170,-532 170,-532 170,-473 170,-473 170,-467 176,-461 182,-461 182,-461 264,-461 264,-461 270,-461 276,-467 276,-473 276,-473 276,-532 276,-532 276,-538 270,-544 264,-544\"/>\n",
       "<text text-anchor=\"start\" x=\"180\" y=\"-528.8\" font-family=\"Helvetica,sans-Serif\" font-size=\"14.00\" fill=\"#000000\">flavanoids ≤ 1.575</text>\n",
       "<text text-anchor=\"start\" x=\"186\" y=\"-513.8\" font-family=\"Helvetica,sans-Serif\" font-size=\"14.00\" fill=\"#000000\">entropy = 1.567</text>\n",
       "<text text-anchor=\"start\" x=\"188.5\" y=\"-498.8\" font-family=\"Helvetica,sans-Serif\" font-size=\"14.00\" fill=\"#000000\">samples = 178</text>\n",
       "<text text-anchor=\"start\" x=\"178\" y=\"-483.8\" font-family=\"Helvetica,sans-Serif\" font-size=\"14.00\" fill=\"#000000\">value = [59, 71, 48]</text>\n",
       "<text text-anchor=\"start\" x=\"187\" y=\"-468.8\" font-family=\"Helvetica,sans-Serif\" font-size=\"14.00\" fill=\"#000000\">class = class_1</text>\n",
       "</g>\n",
       "<!-- 1 -->\n",
       "<g id=\"node2\" class=\"node\">\n",
       "<title>1</title>\n",
       "<path fill=\"#8139e5\" fill-opacity=\"0.709804\" stroke=\"#000000\" d=\"M207.5,-425C207.5,-425 110.5,-425 110.5,-425 104.5,-425 98.5,-419 98.5,-413 98.5,-413 98.5,-354 98.5,-354 98.5,-348 104.5,-342 110.5,-342 110.5,-342 207.5,-342 207.5,-342 213.5,-342 219.5,-348 219.5,-354 219.5,-354 219.5,-413 219.5,-413 219.5,-419 213.5,-425 207.5,-425\"/>\n",
       "<text text-anchor=\"start\" x=\"106.5\" y=\"-409.8\" font-family=\"Helvetica,sans-Serif\" font-size=\"14.00\" fill=\"#000000\">color_intensity ≤ 3.825</text>\n",
       "<text text-anchor=\"start\" x=\"122\" y=\"-394.8\" font-family=\"Helvetica,sans-Serif\" font-size=\"14.00\" fill=\"#000000\">entropy = 0.771</text>\n",
       "<text text-anchor=\"start\" x=\"127.5\" y=\"-379.8\" font-family=\"Helvetica,sans-Serif\" font-size=\"14.00\" fill=\"#000000\">samples = 62</text>\n",
       "<text text-anchor=\"start\" x=\"117\" y=\"-364.8\" font-family=\"Helvetica,sans-Serif\" font-size=\"14.00\" fill=\"#000000\">value = [0, 14, 48]</text>\n",
       "<text text-anchor=\"start\" x=\"123\" y=\"-349.8\" font-family=\"Helvetica,sans-Serif\" font-size=\"14.00\" fill=\"#000000\">class = class_2</text>\n",
       "</g>\n",
       "<!-- 0&#45;&gt;1 -->\n",
       "<g id=\"edge1\" class=\"edge\">\n",
       "<title>0&#45;&gt;1</title>\n",
       "<path fill=\"none\" stroke=\"#000000\" d=\"M200.6159,-460.8796C196.0144,-452.3236 191.1204,-443.2238 186.3658,-434.3833\"/>\n",
       "<polygon fill=\"#000000\" stroke=\"#000000\" points=\"189.2988,-432.4473 181.4796,-425.2981 183.1338,-435.763 189.2988,-432.4473\"/>\n",
       "<text text-anchor=\"middle\" x=\"174.2839\" y=\"-445.5401\" font-family=\"Helvetica,sans-Serif\" font-size=\"14.00\" fill=\"#000000\">True</text>\n",
       "</g>\n",
       "<!-- 6 -->\n",
       "<g id=\"node7\" class=\"node\">\n",
       "<title>6</title>\n",
       "<path fill=\"#e58139\" fill-opacity=\"0.035294\" stroke=\"#000000\" d=\"M366,-425C366,-425 290,-425 290,-425 284,-425 278,-419 278,-413 278,-413 278,-354 278,-354 278,-348 284,-342 290,-342 290,-342 366,-342 366,-342 372,-342 378,-348 378,-354 378,-354 378,-413 378,-413 378,-419 372,-425 366,-425\"/>\n",
       "<text text-anchor=\"start\" x=\"293\" y=\"-409.8\" font-family=\"Helvetica,sans-Serif\" font-size=\"14.00\" fill=\"#000000\">proline ≤ 724.5</text>\n",
       "<text text-anchor=\"start\" x=\"297\" y=\"-394.8\" font-family=\"Helvetica,sans-Serif\" font-size=\"14.00\" fill=\"#000000\">entropy = 1.0</text>\n",
       "<text text-anchor=\"start\" x=\"293.5\" y=\"-379.8\" font-family=\"Helvetica,sans-Serif\" font-size=\"14.00\" fill=\"#000000\">samples = 116</text>\n",
       "<text text-anchor=\"start\" x=\"286\" y=\"-364.8\" font-family=\"Helvetica,sans-Serif\" font-size=\"14.00\" fill=\"#000000\">value = [59, 57, 0]</text>\n",
       "<text text-anchor=\"start\" x=\"292\" y=\"-349.8\" font-family=\"Helvetica,sans-Serif\" font-size=\"14.00\" fill=\"#000000\">class = class_0</text>\n",
       "</g>\n",
       "<!-- 0&#45;&gt;6 -->\n",
       "<g id=\"edge6\" class=\"edge\">\n",
       "<title>0&#45;&gt;6</title>\n",
       "<path fill=\"none\" stroke=\"#000000\" d=\"M259.7239,-460.8796C267.6707,-451.8733 276.149,-442.2644 284.3326,-432.9897\"/>\n",
       "<polygon fill=\"#000000\" stroke=\"#000000\" points=\"287.1275,-435.1122 291.1193,-425.2981 281.8787,-430.4808 287.1275,-435.1122\"/>\n",
       "<text text-anchor=\"middle\" x=\"292.6788\" y=\"-446.5494\" font-family=\"Helvetica,sans-Serif\" font-size=\"14.00\" fill=\"#000000\">False</text>\n",
       "</g>\n",
       "<!-- 2 -->\n",
       "<g id=\"node3\" class=\"node\">\n",
       "<title>2</title>\n",
       "<path fill=\"#39e581\" stroke=\"#000000\" d=\"M82,-298.5C82,-298.5 12,-298.5 12,-298.5 6,-298.5 0,-292.5 0,-286.5 0,-286.5 0,-242.5 0,-242.5 0,-236.5 6,-230.5 12,-230.5 12,-230.5 82,-230.5 82,-230.5 88,-230.5 94,-236.5 94,-242.5 94,-242.5 94,-286.5 94,-286.5 94,-292.5 88,-298.5 82,-298.5\"/>\n",
       "<text text-anchor=\"start\" x=\"16\" y=\"-283.3\" font-family=\"Helvetica,sans-Serif\" font-size=\"14.00\" fill=\"#000000\">entropy = 0.0</text>\n",
       "<text text-anchor=\"start\" x=\"15.5\" y=\"-268.3\" font-family=\"Helvetica,sans-Serif\" font-size=\"14.00\" fill=\"#000000\">samples = 13</text>\n",
       "<text text-anchor=\"start\" x=\"8\" y=\"-253.3\" font-family=\"Helvetica,sans-Serif\" font-size=\"14.00\" fill=\"#000000\">value = [0, 13, 0]</text>\n",
       "<text text-anchor=\"start\" x=\"11\" y=\"-238.3\" font-family=\"Helvetica,sans-Serif\" font-size=\"14.00\" fill=\"#000000\">class = class_1</text>\n",
       "</g>\n",
       "<!-- 1&#45;&gt;2 -->\n",
       "<g id=\"edge2\" class=\"edge\">\n",
       "<title>1&#45;&gt;2</title>\n",
       "<path fill=\"none\" stroke=\"#000000\" d=\"M119.8278,-341.8796C108.9611,-330.3337 97.1624,-317.7976 86.2891,-306.2446\"/>\n",
       "<polygon fill=\"#000000\" stroke=\"#000000\" points=\"88.6988,-303.6982 79.2964,-298.8149 83.6014,-308.4958 88.6988,-303.6982\"/>\n",
       "</g>\n",
       "<!-- 3 -->\n",
       "<g id=\"node4\" class=\"node\">\n",
       "<title>3</title>\n",
       "<path fill=\"#8139e5\" fill-opacity=\"0.980392\" stroke=\"#000000\" d=\"M194,-306C194,-306 124,-306 124,-306 118,-306 112,-300 112,-294 112,-294 112,-235 112,-235 112,-229 118,-223 124,-223 124,-223 194,-223 194,-223 200,-223 206,-229 206,-235 206,-235 206,-294 206,-294 206,-300 200,-306 194,-306\"/>\n",
       "<text text-anchor=\"start\" x=\"134.5\" y=\"-290.8\" font-family=\"Helvetica,sans-Serif\" font-size=\"14.00\" fill=\"#000000\">ash ≤ 2.06</text>\n",
       "<text text-anchor=\"start\" x=\"122\" y=\"-275.8\" font-family=\"Helvetica,sans-Serif\" font-size=\"14.00\" fill=\"#000000\">entropy = 0.144</text>\n",
       "<text text-anchor=\"start\" x=\"127.5\" y=\"-260.8\" font-family=\"Helvetica,sans-Serif\" font-size=\"14.00\" fill=\"#000000\">samples = 49</text>\n",
       "<text text-anchor=\"start\" x=\"120\" y=\"-245.8\" font-family=\"Helvetica,sans-Serif\" font-size=\"14.00\" fill=\"#000000\">value = [0, 1, 48]</text>\n",
       "<text text-anchor=\"start\" x=\"123\" y=\"-230.8\" font-family=\"Helvetica,sans-Serif\" font-size=\"14.00\" fill=\"#000000\">class = class_2</text>\n",
       "</g>\n",
       "<!-- 1&#45;&gt;3 -->\n",
       "<g id=\"edge3\" class=\"edge\">\n",
       "<title>1&#45;&gt;3</title>\n",
       "<path fill=\"none\" stroke=\"#000000\" d=\"M159,-341.8796C159,-333.6838 159,-324.9891 159,-316.5013\"/>\n",
       "<polygon fill=\"#000000\" stroke=\"#000000\" points=\"162.5001,-316.298 159,-306.2981 155.5001,-316.2981 162.5001,-316.298\"/>\n",
       "</g>\n",
       "<!-- 4 -->\n",
       "<g id=\"node5\" class=\"node\">\n",
       "<title>4</title>\n",
       "<path fill=\"#39e581\" stroke=\"#000000\" d=\"M81.5,-179.5C81.5,-179.5 16.5,-179.5 16.5,-179.5 10.5,-179.5 4.5,-173.5 4.5,-167.5 4.5,-167.5 4.5,-123.5 4.5,-123.5 4.5,-117.5 10.5,-111.5 16.5,-111.5 16.5,-111.5 81.5,-111.5 81.5,-111.5 87.5,-111.5 93.5,-117.5 93.5,-123.5 93.5,-123.5 93.5,-167.5 93.5,-167.5 93.5,-173.5 87.5,-179.5 81.5,-179.5\"/>\n",
       "<text text-anchor=\"start\" x=\"18\" y=\"-164.3\" font-family=\"Helvetica,sans-Serif\" font-size=\"14.00\" fill=\"#000000\">entropy = 0.0</text>\n",
       "<text text-anchor=\"start\" x=\"20.5\" y=\"-149.3\" font-family=\"Helvetica,sans-Serif\" font-size=\"14.00\" fill=\"#000000\">samples = 1</text>\n",
       "<text text-anchor=\"start\" x=\"12.5\" y=\"-134.3\" font-family=\"Helvetica,sans-Serif\" font-size=\"14.00\" fill=\"#000000\">value = [0, 1, 0]</text>\n",
       "<text text-anchor=\"start\" x=\"13\" y=\"-119.3\" font-family=\"Helvetica,sans-Serif\" font-size=\"14.00\" fill=\"#000000\">class = class_1</text>\n",
       "</g>\n",
       "<!-- 3&#45;&gt;4 -->\n",
       "<g id=\"edge4\" class=\"edge\">\n",
       "<title>3&#45;&gt;4</title>\n",
       "<path fill=\"none\" stroke=\"#000000\" d=\"M120.5273,-222.8796C109.8547,-211.3337 98.2667,-198.7976 87.5875,-187.2446\"/>\n",
       "<polygon fill=\"#000000\" stroke=\"#000000\" points=\"90.0778,-184.7825 80.7197,-179.8149 84.9375,-189.534 90.0778,-184.7825\"/>\n",
       "</g>\n",
       "<!-- 5 -->\n",
       "<g id=\"node6\" class=\"node\">\n",
       "<title>5</title>\n",
       "<path fill=\"#8139e5\" stroke=\"#000000\" d=\"M194,-179.5C194,-179.5 124,-179.5 124,-179.5 118,-179.5 112,-173.5 112,-167.5 112,-167.5 112,-123.5 112,-123.5 112,-117.5 118,-111.5 124,-111.5 124,-111.5 194,-111.5 194,-111.5 200,-111.5 206,-117.5 206,-123.5 206,-123.5 206,-167.5 206,-167.5 206,-173.5 200,-179.5 194,-179.5\"/>\n",
       "<text text-anchor=\"start\" x=\"128\" y=\"-164.3\" font-family=\"Helvetica,sans-Serif\" font-size=\"14.00\" fill=\"#000000\">entropy = 0.0</text>\n",
       "<text text-anchor=\"start\" x=\"127.5\" y=\"-149.3\" font-family=\"Helvetica,sans-Serif\" font-size=\"14.00\" fill=\"#000000\">samples = 48</text>\n",
       "<text text-anchor=\"start\" x=\"120\" y=\"-134.3\" font-family=\"Helvetica,sans-Serif\" font-size=\"14.00\" fill=\"#000000\">value = [0, 0, 48]</text>\n",
       "<text text-anchor=\"start\" x=\"123\" y=\"-119.3\" font-family=\"Helvetica,sans-Serif\" font-size=\"14.00\" fill=\"#000000\">class = class_2</text>\n",
       "</g>\n",
       "<!-- 3&#45;&gt;5 -->\n",
       "<g id=\"edge5\" class=\"edge\">\n",
       "<title>3&#45;&gt;5</title>\n",
       "<path fill=\"none\" stroke=\"#000000\" d=\"M159,-222.8796C159,-212.2134 159,-200.7021 159,-189.9015\"/>\n",
       "<polygon fill=\"#000000\" stroke=\"#000000\" points=\"162.5001,-189.8149 159,-179.8149 155.5001,-189.815 162.5001,-189.8149\"/>\n",
       "</g>\n",
       "<!-- 7 -->\n",
       "<g id=\"node8\" class=\"node\">\n",
       "<title>7</title>\n",
       "<path fill=\"#39e581\" fill-opacity=\"0.980392\" stroke=\"#000000\" d=\"M363,-306C363,-306 293,-306 293,-306 287,-306 281,-300 281,-294 281,-294 281,-235 281,-235 281,-229 287,-223 293,-223 293,-223 363,-223 363,-223 369,-223 375,-229 375,-235 375,-235 375,-294 375,-294 375,-300 369,-306 363,-306\"/>\n",
       "<text text-anchor=\"start\" x=\"289.5\" y=\"-290.8\" font-family=\"Helvetica,sans-Serif\" font-size=\"14.00\" fill=\"#000000\">alcohol ≤ 13.175</text>\n",
       "<text text-anchor=\"start\" x=\"291\" y=\"-275.8\" font-family=\"Helvetica,sans-Serif\" font-size=\"14.00\" fill=\"#000000\">entropy = 0.133</text>\n",
       "<text text-anchor=\"start\" x=\"296.5\" y=\"-260.8\" font-family=\"Helvetica,sans-Serif\" font-size=\"14.00\" fill=\"#000000\">samples = 54</text>\n",
       "<text text-anchor=\"start\" x=\"289\" y=\"-245.8\" font-family=\"Helvetica,sans-Serif\" font-size=\"14.00\" fill=\"#000000\">value = [1, 53, 0]</text>\n",
       "<text text-anchor=\"start\" x=\"292\" y=\"-230.8\" font-family=\"Helvetica,sans-Serif\" font-size=\"14.00\" fill=\"#000000\">class = class_1</text>\n",
       "</g>\n",
       "<!-- 6&#45;&gt;7 -->\n",
       "<g id=\"edge7\" class=\"edge\">\n",
       "<title>6&#45;&gt;7</title>\n",
       "<path fill=\"none\" stroke=\"#000000\" d=\"M328,-341.8796C328,-333.6838 328,-324.9891 328,-316.5013\"/>\n",
       "<polygon fill=\"#000000\" stroke=\"#000000\" points=\"331.5001,-316.298 328,-306.2981 324.5001,-316.2981 331.5001,-316.298\"/>\n",
       "</g>\n",
       "<!-- 12 -->\n",
       "<g id=\"node13\" class=\"node\">\n",
       "<title>12</title>\n",
       "<path fill=\"#e58139\" fill-opacity=\"0.929412\" stroke=\"#000000\" d=\"M538,-306C538,-306 446,-306 446,-306 440,-306 434,-300 434,-294 434,-294 434,-235 434,-235 434,-229 440,-223 446,-223 446,-223 538,-223 538,-223 544,-223 550,-229 550,-235 550,-235 550,-294 550,-294 550,-300 544,-306 538,-306\"/>\n",
       "<text text-anchor=\"start\" x=\"442\" y=\"-290.8\" font-family=\"Helvetica,sans-Serif\" font-size=\"14.00\" fill=\"#000000\">color_intensity ≤ 3.46</text>\n",
       "<text text-anchor=\"start\" x=\"455\" y=\"-275.8\" font-family=\"Helvetica,sans-Serif\" font-size=\"14.00\" fill=\"#000000\">entropy = 0.345</text>\n",
       "<text text-anchor=\"start\" x=\"460.5\" y=\"-260.8\" font-family=\"Helvetica,sans-Serif\" font-size=\"14.00\" fill=\"#000000\">samples = 62</text>\n",
       "<text text-anchor=\"start\" x=\"453\" y=\"-245.8\" font-family=\"Helvetica,sans-Serif\" font-size=\"14.00\" fill=\"#000000\">value = [58, 4, 0]</text>\n",
       "<text text-anchor=\"start\" x=\"456\" y=\"-230.8\" font-family=\"Helvetica,sans-Serif\" font-size=\"14.00\" fill=\"#000000\">class = class_0</text>\n",
       "</g>\n",
       "<!-- 6&#45;&gt;12 -->\n",
       "<g id=\"edge12\" class=\"edge\">\n",
       "<title>6&#45;&gt;12</title>\n",
       "<path fill=\"none\" stroke=\"#000000\" d=\"M378.0965,-347.1495C393.3375,-336.0905 410.3205,-323.7675 426.4226,-312.0836\"/>\n",
       "<polygon fill=\"#000000\" stroke=\"#000000\" points=\"428.7105,-314.7479 434.7487,-306.0421 424.5994,-309.0822 428.7105,-314.7479\"/>\n",
       "</g>\n",
       "<!-- 8 -->\n",
       "<g id=\"node9\" class=\"node\">\n",
       "<title>8</title>\n",
       "<path fill=\"#39e581\" stroke=\"#000000\" d=\"M306,-179.5C306,-179.5 236,-179.5 236,-179.5 230,-179.5 224,-173.5 224,-167.5 224,-167.5 224,-123.5 224,-123.5 224,-117.5 230,-111.5 236,-111.5 236,-111.5 306,-111.5 306,-111.5 312,-111.5 318,-117.5 318,-123.5 318,-123.5 318,-167.5 318,-167.5 318,-173.5 312,-179.5 306,-179.5\"/>\n",
       "<text text-anchor=\"start\" x=\"240\" y=\"-164.3\" font-family=\"Helvetica,sans-Serif\" font-size=\"14.00\" fill=\"#000000\">entropy = 0.0</text>\n",
       "<text text-anchor=\"start\" x=\"239.5\" y=\"-149.3\" font-family=\"Helvetica,sans-Serif\" font-size=\"14.00\" fill=\"#000000\">samples = 50</text>\n",
       "<text text-anchor=\"start\" x=\"232\" y=\"-134.3\" font-family=\"Helvetica,sans-Serif\" font-size=\"14.00\" fill=\"#000000\">value = [0, 50, 0]</text>\n",
       "<text text-anchor=\"start\" x=\"235\" y=\"-119.3\" font-family=\"Helvetica,sans-Serif\" font-size=\"14.00\" fill=\"#000000\">class = class_1</text>\n",
       "</g>\n",
       "<!-- 7&#45;&gt;8 -->\n",
       "<g id=\"edge8\" class=\"edge\">\n",
       "<title>7&#45;&gt;8</title>\n",
       "<path fill=\"none\" stroke=\"#000000\" d=\"M308.0642,-222.8796C302.7971,-211.8835 297.0999,-199.9893 291.789,-188.9015\"/>\n",
       "<polygon fill=\"#000000\" stroke=\"#000000\" points=\"294.9131,-187.3217 287.4366,-179.8149 288.6,-190.3457 294.9131,-187.3217\"/>\n",
       "</g>\n",
       "<!-- 9 -->\n",
       "<g id=\"node10\" class=\"node\">\n",
       "<title>9</title>\n",
       "<path fill=\"#39e581\" fill-opacity=\"0.666667\" stroke=\"#000000\" d=\"M417.5,-187C417.5,-187 348.5,-187 348.5,-187 342.5,-187 336.5,-181 336.5,-175 336.5,-175 336.5,-116 336.5,-116 336.5,-110 342.5,-104 348.5,-104 348.5,-104 417.5,-104 417.5,-104 423.5,-104 429.5,-110 429.5,-116 429.5,-116 429.5,-175 429.5,-175 429.5,-181 423.5,-187 417.5,-187\"/>\n",
       "<text text-anchor=\"start\" x=\"344.5\" y=\"-171.8\" font-family=\"Helvetica,sans-Serif\" font-size=\"14.00\" fill=\"#000000\">alcohol ≤ 13.365</text>\n",
       "<text text-anchor=\"start\" x=\"346\" y=\"-156.8\" font-family=\"Helvetica,sans-Serif\" font-size=\"14.00\" fill=\"#000000\">entropy = 0.811</text>\n",
       "<text text-anchor=\"start\" x=\"354.5\" y=\"-141.8\" font-family=\"Helvetica,sans-Serif\" font-size=\"14.00\" fill=\"#000000\">samples = 4</text>\n",
       "<text text-anchor=\"start\" x=\"346.5\" y=\"-126.8\" font-family=\"Helvetica,sans-Serif\" font-size=\"14.00\" fill=\"#000000\">value = [1, 3, 0]</text>\n",
       "<text text-anchor=\"start\" x=\"347\" y=\"-111.8\" font-family=\"Helvetica,sans-Serif\" font-size=\"14.00\" fill=\"#000000\">class = class_1</text>\n",
       "</g>\n",
       "<!-- 7&#45;&gt;9 -->\n",
       "<g id=\"edge9\" class=\"edge\">\n",
       "<title>7&#45;&gt;9</title>\n",
       "<path fill=\"none\" stroke=\"#000000\" d=\"M347.2363,-222.8796C351.1908,-214.3236 355.3966,-205.2238 359.4825,-196.3833\"/>\n",
       "<polygon fill=\"#000000\" stroke=\"#000000\" points=\"362.6632,-197.8439 363.6816,-187.2981 356.309,-194.907 362.6632,-197.8439\"/>\n",
       "</g>\n",
       "<!-- 10 -->\n",
       "<g id=\"node11\" class=\"node\">\n",
       "<title>10</title>\n",
       "<path fill=\"#e58139\" stroke=\"#000000\" d=\"M362.5,-68C362.5,-68 297.5,-68 297.5,-68 291.5,-68 285.5,-62 285.5,-56 285.5,-56 285.5,-12 285.5,-12 285.5,-6 291.5,0 297.5,0 297.5,0 362.5,0 362.5,0 368.5,0 374.5,-6 374.5,-12 374.5,-12 374.5,-56 374.5,-56 374.5,-62 368.5,-68 362.5,-68\"/>\n",
       "<text text-anchor=\"start\" x=\"299\" y=\"-52.8\" font-family=\"Helvetica,sans-Serif\" font-size=\"14.00\" fill=\"#000000\">entropy = 0.0</text>\n",
       "<text text-anchor=\"start\" x=\"301.5\" y=\"-37.8\" font-family=\"Helvetica,sans-Serif\" font-size=\"14.00\" fill=\"#000000\">samples = 1</text>\n",
       "<text text-anchor=\"start\" x=\"293.5\" y=\"-22.8\" font-family=\"Helvetica,sans-Serif\" font-size=\"14.00\" fill=\"#000000\">value = [1, 0, 0]</text>\n",
       "<text text-anchor=\"start\" x=\"294\" y=\"-7.8\" font-family=\"Helvetica,sans-Serif\" font-size=\"14.00\" fill=\"#000000\">class = class_0</text>\n",
       "</g>\n",
       "<!-- 9&#45;&gt;10 -->\n",
       "<g id=\"edge10\" class=\"edge\">\n",
       "<title>9&#45;&gt;10</title>\n",
       "<path fill=\"none\" stroke=\"#000000\" d=\"M363.2648,-103.9815C359.1582,-95.3423 354.8194,-86.2144 350.6799,-77.5059\"/>\n",
       "<polygon fill=\"#000000\" stroke=\"#000000\" points=\"353.7409,-75.7927 346.2868,-68.2637 347.4188,-78.7979 353.7409,-75.7927\"/>\n",
       "</g>\n",
       "<!-- 11 -->\n",
       "<g id=\"node12\" class=\"node\">\n",
       "<title>11</title>\n",
       "<path fill=\"#39e581\" stroke=\"#000000\" d=\"M469.5,-68C469.5,-68 404.5,-68 404.5,-68 398.5,-68 392.5,-62 392.5,-56 392.5,-56 392.5,-12 392.5,-12 392.5,-6 398.5,0 404.5,0 404.5,0 469.5,0 469.5,0 475.5,0 481.5,-6 481.5,-12 481.5,-12 481.5,-56 481.5,-56 481.5,-62 475.5,-68 469.5,-68\"/>\n",
       "<text text-anchor=\"start\" x=\"406\" y=\"-52.8\" font-family=\"Helvetica,sans-Serif\" font-size=\"14.00\" fill=\"#000000\">entropy = 0.0</text>\n",
       "<text text-anchor=\"start\" x=\"408.5\" y=\"-37.8\" font-family=\"Helvetica,sans-Serif\" font-size=\"14.00\" fill=\"#000000\">samples = 3</text>\n",
       "<text text-anchor=\"start\" x=\"400.5\" y=\"-22.8\" font-family=\"Helvetica,sans-Serif\" font-size=\"14.00\" fill=\"#000000\">value = [0, 3, 0]</text>\n",
       "<text text-anchor=\"start\" x=\"401\" y=\"-7.8\" font-family=\"Helvetica,sans-Serif\" font-size=\"14.00\" fill=\"#000000\">class = class_1</text>\n",
       "</g>\n",
       "<!-- 9&#45;&gt;11 -->\n",
       "<g id=\"edge11\" class=\"edge\">\n",
       "<title>9&#45;&gt;11</title>\n",
       "<path fill=\"none\" stroke=\"#000000\" d=\"M403.1076,-103.9815C407.2916,-95.3423 411.7123,-86.2144 415.9299,-77.5059\"/>\n",
       "<polygon fill=\"#000000\" stroke=\"#000000\" points=\"419.1971,-78.7893 420.4059,-68.2637 412.8971,-75.7382 419.1971,-78.7893\"/>\n",
       "</g>\n",
       "<!-- 13 -->\n",
       "<g id=\"node14\" class=\"node\">\n",
       "<title>13</title>\n",
       "<path fill=\"#39e581\" stroke=\"#000000\" d=\"M524.5,-179.5C524.5,-179.5 459.5,-179.5 459.5,-179.5 453.5,-179.5 447.5,-173.5 447.5,-167.5 447.5,-167.5 447.5,-123.5 447.5,-123.5 447.5,-117.5 453.5,-111.5 459.5,-111.5 459.5,-111.5 524.5,-111.5 524.5,-111.5 530.5,-111.5 536.5,-117.5 536.5,-123.5 536.5,-123.5 536.5,-167.5 536.5,-167.5 536.5,-173.5 530.5,-179.5 524.5,-179.5\"/>\n",
       "<text text-anchor=\"start\" x=\"461\" y=\"-164.3\" font-family=\"Helvetica,sans-Serif\" font-size=\"14.00\" fill=\"#000000\">entropy = 0.0</text>\n",
       "<text text-anchor=\"start\" x=\"463.5\" y=\"-149.3\" font-family=\"Helvetica,sans-Serif\" font-size=\"14.00\" fill=\"#000000\">samples = 4</text>\n",
       "<text text-anchor=\"start\" x=\"455.5\" y=\"-134.3\" font-family=\"Helvetica,sans-Serif\" font-size=\"14.00\" fill=\"#000000\">value = [0, 4, 0]</text>\n",
       "<text text-anchor=\"start\" x=\"456\" y=\"-119.3\" font-family=\"Helvetica,sans-Serif\" font-size=\"14.00\" fill=\"#000000\">class = class_1</text>\n",
       "</g>\n",
       "<!-- 12&#45;&gt;13 -->\n",
       "<g id=\"edge13\" class=\"edge\">\n",
       "<title>12&#45;&gt;13</title>\n",
       "<path fill=\"none\" stroke=\"#000000\" d=\"M492,-222.8796C492,-212.2134 492,-200.7021 492,-189.9015\"/>\n",
       "<polygon fill=\"#000000\" stroke=\"#000000\" points=\"495.5001,-189.8149 492,-179.8149 488.5001,-189.815 495.5001,-189.8149\"/>\n",
       "</g>\n",
       "<!-- 14 -->\n",
       "<g id=\"node15\" class=\"node\">\n",
       "<title>14</title>\n",
       "<path fill=\"#e58139\" stroke=\"#000000\" d=\"M637,-179.5C637,-179.5 567,-179.5 567,-179.5 561,-179.5 555,-173.5 555,-167.5 555,-167.5 555,-123.5 555,-123.5 555,-117.5 561,-111.5 567,-111.5 567,-111.5 637,-111.5 637,-111.5 643,-111.5 649,-117.5 649,-123.5 649,-123.5 649,-167.5 649,-167.5 649,-173.5 643,-179.5 637,-179.5\"/>\n",
       "<text text-anchor=\"start\" x=\"571\" y=\"-164.3\" font-family=\"Helvetica,sans-Serif\" font-size=\"14.00\" fill=\"#000000\">entropy = 0.0</text>\n",
       "<text text-anchor=\"start\" x=\"570.5\" y=\"-149.3\" font-family=\"Helvetica,sans-Serif\" font-size=\"14.00\" fill=\"#000000\">samples = 58</text>\n",
       "<text text-anchor=\"start\" x=\"563\" y=\"-134.3\" font-family=\"Helvetica,sans-Serif\" font-size=\"14.00\" fill=\"#000000\">value = [58, 0, 0]</text>\n",
       "<text text-anchor=\"start\" x=\"566\" y=\"-119.3\" font-family=\"Helvetica,sans-Serif\" font-size=\"14.00\" fill=\"#000000\">class = class_0</text>\n",
       "</g>\n",
       "<!-- 12&#45;&gt;14 -->\n",
       "<g id=\"edge14\" class=\"edge\">\n",
       "<title>12&#45;&gt;14</title>\n",
       "<path fill=\"none\" stroke=\"#000000\" d=\"M530.4727,-222.8796C541.1453,-211.3337 552.7333,-198.7976 563.4125,-187.2446\"/>\n",
       "<polygon fill=\"#000000\" stroke=\"#000000\" points=\"566.0625,-189.534 570.2803,-179.8149 560.9222,-184.7825 566.0625,-189.534\"/>\n",
       "</g>\n",
       "</g>\n",
       "</svg>\n"
      ],
      "text/plain": [
       "<graphviz.files.Source at 0x1a13c9de80>"
      ]
     },
     "execution_count": 4,
     "metadata": {},
     "output_type": "execute_result"
    }
   ],
   "source": [
    "graph"
   ]
  }
 ],
 "metadata": {
  "kernelspec": {
   "display_name": "Python 3",
   "language": "python",
   "name": "python3"
  },
  "language_info": {
   "codemirror_mode": {
    "name": "ipython",
    "version": 3
   },
   "file_extension": ".py",
   "mimetype": "text/x-python",
   "name": "python",
   "nbconvert_exporter": "python",
   "pygments_lexer": "ipython3",
   "version": "3.6.4"
  }
 },
 "nbformat": 4,
 "nbformat_minor": 2
}
